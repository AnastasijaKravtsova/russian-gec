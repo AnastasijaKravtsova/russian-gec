{
 "cells": [
  {
   "cell_type": "code",
   "execution_count": 1,
   "metadata": {},
   "outputs": [
    {
     "name": "stderr",
     "output_type": "stream",
     "text": [
      "[nltk_data] Downloading package punkt to /home/kravtsova/nltk_data...\n",
      "[nltk_data]   Package punkt is already up-to-date!\n",
      "[nltk_data] Downloading package stopwords to\n",
      "[nltk_data]     /home/kravtsova/nltk_data...\n",
      "[nltk_data]   Package stopwords is already up-to-date!\n",
      "[nltk_data] Downloading package perluniprops to\n",
      "[nltk_data]     /home/kravtsova/nltk_data...\n",
      "[nltk_data]   Package perluniprops is already up-to-date!\n",
      "[nltk_data] Downloading package nonbreaking_prefixes to\n",
      "[nltk_data]     /home/kravtsova/nltk_data...\n",
      "[nltk_data]   Package nonbreaking_prefixes is already up-to-date!\n"
     ]
    },
    {
     "name": "stdout",
     "output_type": "stream",
     "text": [
      "WARNING:tensorflow:From /cephfs/home/kravtsova/venv/lib/python3.6/site-packages/bert_dp/tokenization.py:125: The name tf.gfile.GFile is deprecated. Please use tf.io.gfile.GFile instead.\n",
      "\n"
     ]
    },
    {
     "name": "stderr",
     "output_type": "stream",
     "text": [
      "2020-06-03 01:11:41.759 INFO in 'deeppavlov.core.data.simple_vocab'['simple_vocab'] at line 115: [loading vocabulary from /cephfs/home/kravtsova/hse/thesis/punctuation/punct_plain_large.dict]\n"
     ]
    },
    {
     "name": "stdout",
     "output_type": "stream",
     "text": [
      "WARNING:tensorflow:From /cephfs/home/kravtsova/venv/lib/python3.6/site-packages/deeppavlov/core/models/tf_model.py:37: The name tf.Session is deprecated. Please use tf.compat.v1.Session instead.\n",
      "\n",
      "WARNING:tensorflow:From /cephfs/home/kravtsova/venv/lib/python3.6/site-packages/deeppavlov/core/models/tf_model.py:222: The name tf.placeholder is deprecated. Please use tf.compat.v1.placeholder instead.\n",
      "\n",
      "WARNING:tensorflow:From /cephfs/home/kravtsova/venv/lib/python3.6/site-packages/deeppavlov/core/models/tf_model.py:222: The name tf.train.Optimizer is deprecated. Please use tf.compat.v1.train.Optimizer instead.\n",
      "\n",
      "WARNING:tensorflow:From /cephfs/home/kravtsova/venv/lib/python3.6/site-packages/deeppavlov/core/models/tf_model.py:193: The name tf.train.AdamOptimizer is deprecated. Please use tf.compat.v1.train.AdamOptimizer instead.\n",
      "\n",
      "WARNING:tensorflow:From /cephfs/home/kravtsova/venv/lib/python3.6/site-packages/deeppavlov/models/bert/bert_sequence_tagger.py:236: The name tf.ConfigProto is deprecated. Please use tf.compat.v1.ConfigProto instead.\n",
      "\n",
      "WARNING:tensorflow:From /cephfs/home/kravtsova/venv/lib/python3.6/site-packages/deeppavlov/models/bert/bert_sequence_tagger.py:314: The name tf.placeholder_with_default is deprecated. Please use tf.compat.v1.placeholder_with_default instead.\n",
      "\n",
      "WARNING:tensorflow:From /cephfs/home/kravtsova/venv/lib/python3.6/site-packages/bert_dp/modeling.py:178: The name tf.variable_scope is deprecated. Please use tf.compat.v1.variable_scope instead.\n",
      "\n",
      "WARNING:tensorflow:From /cephfs/home/kravtsova/venv/lib/python3.6/site-packages/bert_dp/modeling.py:418: The name tf.get_variable is deprecated. Please use tf.compat.v1.get_variable instead.\n",
      "\n",
      "WARNING:tensorflow:From /cephfs/home/kravtsova/venv/lib/python3.6/site-packages/bert_dp/modeling.py:499: The name tf.assert_less_equal is deprecated. Please use tf.compat.v1.assert_less_equal instead.\n",
      "\n",
      "WARNING:tensorflow:\n",
      "The TensorFlow contrib module will not be included in TensorFlow 2.0.\n",
      "For more information, please see:\n",
      "  * https://github.com/tensorflow/community/blob/master/rfcs/20180907-contrib-sunset.md\n",
      "  * https://github.com/tensorflow/addons\n",
      "  * https://github.com/tensorflow/io (for I/O related ops)\n",
      "If you depend on functionality not listed there, please file an issue.\n",
      "\n",
      "WARNING:tensorflow:From /cephfs/home/kravtsova/venv/lib/python3.6/site-packages/bert_dp/modeling.py:366: calling dropout (from tensorflow.python.ops.nn_ops) with keep_prob is deprecated and will be removed in a future version.\n",
      "Instructions for updating:\n",
      "Please use `rate` instead of `keep_prob`. Rate should be set to `rate = 1 - keep_prob`.\n",
      "WARNING:tensorflow:From /cephfs/home/kravtsova/venv/lib/python3.6/site-packages/bert_dp/modeling.py:680: dense (from tensorflow.python.layers.core) is deprecated and will be removed in a future version.\n",
      "Instructions for updating:\n",
      "Use keras.layers.Dense instead.\n",
      "WARNING:tensorflow:From /cephfs/home/kravtsova/venv/lib/python3.6/site-packages/tensorflow_core/python/layers/core.py:187: Layer.apply (from tensorflow.python.keras.engine.base_layer) is deprecated and will be removed in a future version.\n",
      "Instructions for updating:\n",
      "Please use `layer.__call__` method instead.\n",
      "WARNING:tensorflow:From /cephfs/home/kravtsova/venv/lib/python3.6/site-packages/bert_dp/modeling.py:283: The name tf.erf is deprecated. Please use tf.math.erf instead.\n",
      "\n",
      "WARNING:tensorflow:Variable *= will be deprecated. Use `var.assign(var * other)` if you want assignment to the variable value or `x = x * y` if you want a new python Tensor object.\n",
      "WARNING:tensorflow:From /cephfs/home/kravtsova/venv/lib/python3.6/site-packages/deeppavlov/models/bert/bert_sequence_tagger.py:75: where (from tensorflow.python.ops.array_ops) is deprecated and will be removed in a future version.\n",
      "Instructions for updating:\n",
      "Use tf.where in 2.0, which has the same broadcast rule as np.where\n",
      "WARNING:tensorflow:From /cephfs/home/kravtsova/venv/lib/python3.6/site-packages/deeppavlov/models/bert/bert_sequence_tagger.py:571: The name tf.losses.sparse_softmax_cross_entropy is deprecated. Please use tf.compat.v1.losses.sparse_softmax_cross_entropy instead.\n",
      "\n",
      "WARNING:tensorflow:From /cephfs/home/kravtsova/venv/lib/python3.6/site-packages/deeppavlov/core/models/tf_model.py:131: The name tf.get_collection is deprecated. Please use tf.compat.v1.get_collection instead.\n",
      "\n",
      "WARNING:tensorflow:From /cephfs/home/kravtsova/venv/lib/python3.6/site-packages/deeppavlov/core/models/tf_model.py:131: The name tf.GraphKeys is deprecated. Please use tf.compat.v1.GraphKeys instead.\n",
      "\n",
      "WARNING:tensorflow:From /cephfs/home/kravtsova/venv/lib/python3.6/site-packages/deeppavlov/models/bert/bert_sequence_tagger.py:244: The name tf.global_variables_initializer is deprecated. Please use tf.compat.v1.global_variables_initializer instead.\n",
      "\n",
      "WARNING:tensorflow:From /cephfs/home/kravtsova/venv/lib/python3.6/site-packages/deeppavlov/models/bert/bert_sequence_tagger.py:249: checkpoint_exists (from tensorflow.python.training.checkpoint_management) is deprecated and will be removed in a future version.\n",
      "Instructions for updating:\n",
      "Use standard file APIs to check for files with this prefix.\n"
     ]
    },
    {
     "name": "stderr",
     "output_type": "stream",
     "text": [
      "2020-06-03 01:12:04.312 INFO in 'deeppavlov.core.models.tf_model'['tf_model'] at line 51: [loading model from /cephfs/home/kravtsova/hse/thesis/punctuation/model_plain_large]\n"
     ]
    },
    {
     "name": "stdout",
     "output_type": "stream",
     "text": [
      "WARNING:tensorflow:From /cephfs/home/kravtsova/venv/lib/python3.6/site-packages/deeppavlov/core/models/tf_model.py:54: The name tf.train.Saver is deprecated. Please use tf.compat.v1.train.Saver instead.\n",
      "\n",
      "INFO:tensorflow:Restoring parameters from /cephfs/home/kravtsova/hse/thesis/punctuation/model_plain_large\n"
     ]
    }
   ],
   "source": [
    "from deeppavlov import build_model\n",
    "model = build_model('punctuation_large.json')"
   ]
  },
  {
   "cell_type": "code",
   "execution_count": 2,
   "metadata": {},
   "outputs": [],
   "source": [
    "#old fucked up\n",
    "with open('RULEC-GEC_test_original_ya_corrected.txt', 'r', encoding='utf8') as f:\n",
    "    data = f.readlines()\n",
    "data = [x.strip('\\n') for x in data]"
   ]
  },
  {
   "cell_type": "code",
   "execution_count": 121,
   "metadata": {},
   "outputs": [],
   "source": [
    "with open('RULEC-GEC_test_ya_speller.txt', 'r', encoding='utf8') as f:\n",
    "    data = f.readlines()\n",
    "data = [x.strip() for x in data]"
   ]
  },
  {
   "cell_type": "code",
   "execution_count": 2,
   "metadata": {},
   "outputs": [],
   "source": [
    "with open('/home/kravtsova/hse/thesis/RozovskayaRothTACL2018-dataset/skills_2/excluded_test_ya_speller.txt', 'r', encoding='utf8') as f:\n",
    "    data = f.readlines()\n",
    "data = [x.strip() for x in data]"
   ]
  },
  {
   "cell_type": "code",
   "execution_count": 104,
   "metadata": {},
   "outputs": [],
   "source": [
    "def normalize(text):\n",
    "    return ' '.join(word.strip(punct) for word in text.split())\n",
    "data_wo_punct = [normalize(x) for x in data]"
   ]
  },
  {
   "cell_type": "code",
   "execution_count": 105,
   "metadata": {},
   "outputs": [],
   "source": [
    "with open('RULEC-GEC_test_ya_speller_wo_punct.txt', 'w', encoding='utf8') as f:\n",
    "    for sent in data_wo_punct:\n",
    "        f.write(sent + '\\n')"
   ]
  },
  {
   "cell_type": "code",
   "execution_count": null,
   "metadata": {},
   "outputs": [],
   "source": [
    "with open('RULEC-GEC_test_ya_speller_wo_punct.txt', 'r', encoding='utf8') as f:\n",
    "    data = f.readlines()\n",
    "data = [x.strip() for x in data]"
   ]
  },
  {
   "cell_type": "code",
   "execution_count": 2,
   "metadata": {},
   "outputs": [],
   "source": [
    "with open('RozovskayaRothTACL2018-dataset/RULEC-GEC_test_original.txt', 'r', encoding='utf8') as f:\n",
    "    data = f.readlines()\n",
    "data = [x.strip() for x in data]"
   ]
  },
  {
   "cell_type": "code",
   "execution_count": 3,
   "metadata": {},
   "outputs": [],
   "source": [
    "tokens_batch, punct_batch = model.batched_call(data, batch_size=16)"
   ]
  },
  {
   "cell_type": "code",
   "execution_count": 4,
   "metadata": {},
   "outputs": [],
   "source": [
    "punct = '!.?:;—,…-«»`'"
   ]
  },
  {
   "cell_type": "code",
   "execution_count": 5,
   "metadata": {},
   "outputs": [],
   "source": [
    "#new\n",
    "updated = []\n",
    "for tokens, punctuation in zip(tokens_batch, punct_batch):\n",
    "    sent = []\n",
    "    for i, (token, p) in enumerate(zip(tokens, punctuation)):\n",
    "        sent.append(token)\n",
    "        try:\n",
    "            if (p is not None) and (p != tokens[i]) and (p != tokens[i+1]) and (\n",
    "                tokens[i+2] not in punct) and (\n",
    "                tokens[i+1] not in punct):\n",
    "                sent.append(p)\n",
    "        except IndexError:\n",
    "             continue\n",
    "    updated.append(sent)"
   ]
  },
  {
   "cell_type": "code",
   "execution_count": 6,
   "metadata": {},
   "outputs": [],
   "source": [
    "wo_none = [' '.join(x for x in sent if x != 'NONE') for sent in updated]"
   ]
  },
  {
   "cell_type": "code",
   "execution_count": 97,
   "metadata": {},
   "outputs": [
    {
     "data": {
      "text/plain": [
       "['Потом',\n",
       " 'Он',\n",
       " 'призвал',\n",
       " 'к',\n",
       " 'Лазаря',\n",
       " 'и',\n",
       " 'сказал',\n",
       " ',',\n",
       " 'иди',\n",
       " 'вон',\n",
       " '!',\n",
       " 'Лазарь',\n",
       " 'появился',\n",
       " ',',\n",
       " 'живой',\n",
       " ',',\n",
       " 'завернул',\n",
       " 'в',\n",
       " 'полотне',\n",
       " '.']"
      ]
     },
     "execution_count": 97,
     "metadata": {},
     "output_type": "execute_result"
    }
   ],
   "source": [
    "tokens_batch[4385]"
   ]
  },
  {
   "cell_type": "code",
   "execution_count": 1,
   "metadata": {},
   "outputs": [
    {
     "ename": "NameError",
     "evalue": "name 'punct_batch' is not defined",
     "output_type": "error",
     "traceback": [
      "\u001b[0;31m---------------------------------------------------------------------------\u001b[0m",
      "\u001b[0;31mNameError\u001b[0m                                 Traceback (most recent call last)",
      "\u001b[0;32m<ipython-input-1-914c4fef7176>\u001b[0m in \u001b[0;36m<module>\u001b[0;34m\u001b[0m\n\u001b[0;32m----> 1\u001b[0;31m \u001b[0mpunct_batch\u001b[0m\u001b[0;34m[\u001b[0m\u001b[0;36m4385\u001b[0m\u001b[0;34m]\u001b[0m\u001b[0;34m\u001b[0m\u001b[0;34m\u001b[0m\u001b[0m\n\u001b[0m",
      "\u001b[0;31mNameError\u001b[0m: name 'punct_batch' is not defined"
     ]
    }
   ],
   "source": [
    "punct_batch[4385]"
   ]
  },
  {
   "cell_type": "code",
   "execution_count": 119,
   "metadata": {},
   "outputs": [
    {
     "data": {
      "text/plain": [
       "['После',\n",
       " 'NONE',\n",
       " 'восемнадцатой',\n",
       " 'NONE',\n",
       " 'поправки',\n",
       " 'NONE',\n",
       " 'к',\n",
       " 'NONE',\n",
       " 'конституции',\n",
       " 'США',\n",
       " '«',\n",
       " 'NONE',\n",
       " 'сухой',\n",
       " 'закон',\n",
       " '»',\n",
       " 'NONE',\n",
       " 'в',\n",
       " '1919',\n",
       " ',',\n",
       " 'NONE',\n",
       " 'многие',\n",
       " 'NONE',\n",
       " 'пивоварения',\n",
       " 'NONE',\n",
       " 'закрылись',\n",
       " 'NONE',\n",
       " 'или',\n",
       " 'NONE',\n",
       " 'шли',\n",
       " 'NONE',\n",
       " 'на',\n",
       " 'NONE',\n",
       " 'чёрный',\n",
       " 'рынок',\n",
       " '.']"
      ]
     },
     "execution_count": 119,
     "metadata": {},
     "output_type": "execute_result"
    }
   ],
   "source": [
    "updated[3632]"
   ]
  },
  {
   "cell_type": "code",
   "execution_count": 111,
   "metadata": {},
   "outputs": [
    {
     "data": {
      "text/plain": [
       "'Потом Он призвал к Лазаря и сказал : иди вон , Лазарь появился живой , завернул в полотне'"
      ]
     },
     "execution_count": 111,
     "metadata": {},
     "output_type": "execute_result"
    }
   ],
   "source": [
    "wo_none[4385]"
   ]
  },
  {
   "cell_type": "code",
   "execution_count": 112,
   "metadata": {},
   "outputs": [
    {
     "data": {
      "text/plain": [
       "'Но стоит отметить  что он использует просторечный пример  молодежный журнал  чтобы пояснить свою идею'"
      ]
     },
     "execution_count": 112,
     "metadata": {},
     "output_type": "execute_result"
    }
   ],
   "source": [
    "data[12]"
   ]
  },
  {
   "cell_type": "code",
   "execution_count": 7,
   "metadata": {},
   "outputs": [],
   "source": [
    "with open('/home/kravtsova/hse/thesis/RozovskayaRothTACL2018-dataset/skills_2/excluded_test_ya_speller_punct.txt', 'w', encoding='utf8') as f:\n",
    "    for sent in wo_none:\n",
    "        f.write(sent + '\\n')"
   ]
  },
  {
   "cell_type": "markdown",
   "metadata": {},
   "source": [
    "#### Yandex Speller"
   ]
  },
  {
   "cell_type": "code",
   "execution_count": 8,
   "metadata": {},
   "outputs": [],
   "source": [
    "with open('RULEC-GEC_test_original_punct.txt', 'r') as f:\n",
    "    test = f.readlines()\n",
    "test = [x.strip() for x in test]"
   ]
  },
  {
   "cell_type": "code",
   "execution_count": 9,
   "metadata": {},
   "outputs": [],
   "source": [
    "import requests\n",
    "def ya_correction(text):\n",
    "    url = 'https://speller.yandex.net/services/spellservice.json/checkText'\n",
    "    r = requests.post(url, data=f'text={text}'.encode(), headers={'Content-Type': 'application/x-www-form-urlencoded'})\n",
    "    corrected = text\n",
    "    for c in reversed(r.json()):\n",
    "        if c.get('s'):\n",
    "            corrected = corrected[:c['pos']] + c['s'][0] + corrected[c['pos'] + c['len']:] \n",
    "    return corrected"
   ]
  },
  {
   "cell_type": "code",
   "execution_count": 10,
   "metadata": {},
   "outputs": [],
   "source": [
    "with open('RULEC-GEC_test_original_punct_ya_speller.txt', 'w', encoding='utf8') as f:\n",
    "    for sent in test:\n",
    "        f.write(ya_correction(sent) + '\\n')"
   ]
  }
 ],
 "metadata": {
  "kernelspec": {
   "display_name": "Python 3",
   "language": "python",
   "name": "python3"
  },
  "language_info": {
   "codemirror_mode": {
    "name": "ipython",
    "version": 3
   },
   "file_extension": ".py",
   "mimetype": "text/x-python",
   "name": "python",
   "nbconvert_exporter": "python",
   "pygments_lexer": "ipython3",
   "version": "3.6.9"
  }
 },
 "nbformat": 4,
 "nbformat_minor": 4
}
